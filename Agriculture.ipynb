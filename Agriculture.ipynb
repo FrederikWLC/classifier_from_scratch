{
  "nbformat": 4,
  "nbformat_minor": 0,
  "metadata": {
    "colab": {
      "name": "Agriculture.ipynb",
      "provenance": [],
      "collapsed_sections": []
    },
    "kernelspec": {
      "name": "python3",
      "display_name": "Python 3"
    },
    "accelerator": "GPU"
  },
  "cells": [
    {
      "cell_type": "code",
      "metadata": {
        "id": "nSRxlOK4Kx05",
        "colab_type": "code",
        "colab": {}
      },
      "source": [
        "# Imports\n",
        "import numpy as np\n",
        "import cv2\n",
        "import math\n",
        "from glob import glob\n",
        "from os import path"
      ],
      "execution_count": 0,
      "outputs": []
    },
    {
      "cell_type": "code",
      "metadata": {
        "id": "9KPOyqdFK3HP",
        "colab_type": "code",
        "colab": {}
      },
      "source": [
        "class Model:\n",
        "  def __init__(self, shape, activations):\n",
        "    self.shape = shape\n",
        "    self.activations = [np.vectorize(a) for a in activations]\n",
        "    self.weights = [np.array([np.random.uniform(-1, 1, shape[i+1]) for n in range(shape[i])]) for i in range(len(shape)) if i < len(shape)-1]\n",
        "    self.biases = [np.random.uniform(-1, 1, shape[i]) for i in range(len(shape))]  \n",
        "  \n",
        "  def predict(self, X):\n",
        "    predictions = []\n",
        "    for x in X:\n",
        "      for i in range(len(self.shape)):\n",
        "        x = np.add(x,self.biases[i])\n",
        "        x = self.activations[i](x)\n",
        "        if i < len(self.shape)-1:\n",
        "          x = np.dot(x, self.weights[i])\n",
        "      predictions.append(x)\n",
        "    return predictions\n",
        "  \n",
        "  def fit(self, X, Y, epochs, lr):\n",
        "    for e in range(epochs):\n",
        "      # Getting the gradients\n",
        "      Y_hat = self.predict(X)\n",
        "      #Getting the errors\n",
        "      errors = np.subtract(Y,Y_hat) * self.activations[-1](Y_hat, prime=True)\n",
        "      print(errors)\n",
        "      # Changing the features with respect to their gradients\n",
        "      \"\"\"for i in range(len(self.shape)):\n",
        "        self.biases[i] = np.add((-1.0) * lr * b_grads[i],self.biases[i])\n",
        "        if i < len(self.shape)-1:\n",
        "          self.weights[i] = np.add((-1.0) * lr * w_grads[i], self.weights[i])\n",
        "      \"\"\"\n",
        " "
      ],
      "execution_count": 0,
      "outputs": []
    },
    {
      "cell_type": "markdown",
      "metadata": {
        "id": "HaoyM6CWMqao",
        "colab_type": "text"
      },
      "source": [
        "# Get the data\n"
      ]
    },
    {
      "cell_type": "code",
      "metadata": {
        "id": "9qWKiJJoFhXE",
        "colab_type": "code",
        "colab": {}
      },
      "source": [
        "basedir = \"/Users/Frederik/dataset\"\n",
        "im_width = 200\n",
        "im_height = 200 \n",
        "im_channel = 3\n",
        "\n",
        "# Get filenames\n",
        "broadleaf = glob(path.join(basedir,\"broadleaf\",'*.tif'))\n",
        "grass = glob(path.join(basedir,\"grass\",'*.tif'))\n",
        "soil = glob(path.join(basedir,\"soil\",'*.tif'))\n",
        "soybean = glob(path.join(basedir,\"soybean\",'*.tif'))\n",
        "\n",
        "# Get images\n",
        "broadleafX = [cv2.resize(cv2.imread(file),(im_width,im_height)) for file in broadleaf]\n",
        "grassX = [cv2.resize(cv2.imread(file),(im_width,im_height)) for file in grass]\n",
        "soilX = [cv2.resize(cv2.imread(file),(im_width,im_height)) for file in soil]\n",
        "soybeanX = [cv2.resize(cv2.imread(file),(im_width,im_height)) for file in soybean]           \n",
        "dataX = broadleafX + grassX + soilX + soybeanX\n",
        "\n",
        "# Get labels\n",
        "broadleafY = len(broadleaf)*[[1,0,0,0]]\n",
        "grassY = len(grass)*[[0,1,0,0]]\n",
        "soilY = len(soil)*[[0,0,1,0]]\n",
        "soybeanY = len(soybean)*[[0,0,0,1]]                 \n",
        "dataY = broadleafY + grassY + soilY + soybeanY"
      ],
      "execution_count": 0,
      "outputs": []
    },
    {
      "cell_type": "markdown",
      "metadata": {
        "id": "8a0EJECTRToO",
        "colab_type": "text"
      },
      "source": [
        "# Defining the model"
      ]
    },
    {
      "cell_type": "code",
      "metadata": {
        "id": "gmm0ErSzBp7j",
        "colab_type": "code",
        "colab": {
          "base_uri": "https://localhost:8080/",
          "height": 54
        },
        "outputId": "944f47b4-a25c-4ac0-c091-35b3787a907c"
      },
      "source": [
        "# Defining some activation functions\n",
        "def sigmoid(x, prime=False):\n",
        "  if not prime:\n",
        "    if x < 0:\n",
        "      return 1/(1+math.exp(x))\n",
        "    else:\n",
        "      return 1/(1+math.exp(-x))\n",
        "  else:\n",
        "    return sigmoid(x)*(1-sigmoid(x))\n",
        "  \n",
        "def ReLu(x, prime=False):\n",
        "  if not prime:\n",
        "    return max(0,x)\n",
        "  else:\n",
        "    return max(max(0, x),1)\n",
        "\n",
        "np.random.seed(1)\n",
        "model = Model(shape=[im_width*im_height,4],activations=[ReLu,sigmoid])"
      ],
      "execution_count": 36,
      "outputs": [
        {
          "output_type": "stream",
          "text": [
            "[array([0.99999699, 0.99177483, 1.        , 0.82320016]), array([0.99981504, 1.        , 1.        , 1.        ])]\n"
          ],
          "name": "stdout"
        }
      ]
    },
    {
      "cell_type": "markdown",
      "metadata": {
        "id": "4i-17uYB81BI",
        "colab_type": "text"
      },
      "source": [
        "# Preprocess the data"
      ]
    },
    {
      "cell_type": "code",
      "metadata": {
        "id": "wLsOOTnP86ZS",
        "colab_type": "code",
        "colab": {}
      },
      "source": [
        "# Converting images to grayscale\n",
        "# Converting images to 1 dimensional vectors that are able to be passed as input\n",
        "dataX = [cv2.cvtColor(im,cv2.COLOR_BGR2GRAY).reshape(-1) for im in dataX]"
      ],
      "execution_count": 0,
      "outputs": []
    },
    {
      "cell_type": "markdown",
      "metadata": {
        "id": "grOumKiqIu3h",
        "colab_type": "text"
      },
      "source": [
        "# Predicting on the data"
      ]
    },
    {
      "cell_type": "code",
      "metadata": {
        "id": "yXTTGxl1IKa-",
        "colab_type": "code",
        "colab": {
          "base_uri": "https://localhost:8080/",
          "height": 54
        },
        "outputId": "0e57d10c-f0ff-4c0e-a39c-2d69305e22c2"
      },
      "source": [
        "# Looking at predictions of the data\n",
        "print(model.predict(dataX[-10:]))"
      ],
      "execution_count": 38,
      "outputs": [
        {
          "output_type": "stream",
          "text": [
            "[array([1., 1., 1., 1.]), array([1., 1., 1., 1.]), array([1., 1., 1., 1.]), array([1., 1., 1., 1.]), array([1., 1., 1., 1.]), array([1., 1., 1., 1.]), array([1., 1., 1., 1.]), array([1., 1., 1., 1.]), array([1., 1., 1., 1.]), array([1., 1., 1., 1.])]\n"
          ],
          "name": "stdout"
        }
      ]
    }
  ]
}